{
 "cells": [
  {
   "cell_type": "code",
   "execution_count": null,
   "id": "12a11351-446b-418c-99e4-e8d4aff2115d",
   "metadata": {},
   "outputs": [],
   "source": []
  },
  {
   "cell_type": "markdown",
   "id": "af0b5cb1-3f1e-446b-9b82-d383b3e781ca",
   "metadata": {},
   "source": [
    "# Create_Knowledge_Graph_using_LLM_Langchain.ipynb"
   ]
  },
  {
   "cell_type": "markdown",
   "id": "aad3f25f-5c4b-44a5-b7d6-0a80e3ed43ec",
   "metadata": {},
   "source": [
    "#### Code concepts courtesy "
   ]
  },
  {
   "cell_type": "markdown",
   "id": "3e39074c-1978-45c1-9498-1266c9298ae9",
   "metadata": {},
   "source": [
    "https://python.langchain.com/docs/use_cases/graph/"
   ]
  },
  {
   "cell_type": "markdown",
   "id": "a2ef0f83-c2f0-4c1e-8df3-eb34fc3b88a8",
   "metadata": {},
   "source": [
    "# Can LLM create and query knowledge graph"
   ]
  },
  {
   "cell_type": "markdown",
   "id": "131df5eb-11c3-4178-b457-bba29f45b169",
   "metadata": {},
   "source": [
    "### Install libraries"
   ]
  },
  {
   "cell_type": "code",
   "execution_count": null,
   "id": "3fa668f7-3641-4edf-a78e-0c6944fd4159",
   "metadata": {},
   "outputs": [],
   "source": [
    "# list of packages\n",
    "\n",
    "!pip install langchain==0.1.13\n",
    "!pip install langchain-community==0.0.29\n",
    "!pip install langchain-core==0.1.33\n",
    "!pip install langchain-experimental==0.0.55\n",
    "!pip install langchain-openai==0.1.1\n",
    "!pip install langchain-text-splitters==0.0.1\n",
    "!pip install langsmith==0.1.31\n",
    "!pip install openai==1.14.2"
   ]
  },
  {
   "cell_type": "code",
   "execution_count": null,
   "id": "a09f5dbe-968e-4184-9cd3-a82570805d17",
   "metadata": {},
   "outputs": [],
   "source": [
    "import getpass\n",
    "import os\n",
    "\n",
    "os.environ[\"OPENAI_API_KEY\"] = getpass.getpass()\n"
   ]
  },
  {
   "cell_type": "code",
   "execution_count": 2,
   "id": "7086d421-68f6-4761-b7af-8217b0a1fc33",
   "metadata": {},
   "outputs": [],
   "source": [
    "\n",
    "import os\n",
    "\n",
    "from langchain_community.graphs import Neo4jGraph\n",
    "\n",
    "os.environ[\"NEO4J_URI\"] = os.getenv(\"neo4j_uri\")\n",
    "os.environ[\"NEO4J_USERNAME\"] = os.getenv(\"neo4j_username\")\n",
    "os.environ[\"NEO4J_PASSWORD\"] = os.getenv(\"neo4j_password\")\n",
    "\n",
    "graph = Neo4jGraph()"
   ]
  },
  {
   "cell_type": "markdown",
   "id": "728fcb5b-4962-4da3-b15a-784c3b6fe45a",
   "metadata": {},
   "source": [
    "### Set up graph transformer"
   ]
  },
  {
   "cell_type": "code",
   "execution_count": 4,
   "id": "c12e8954-8917-45ed-be1d-b02b22b11207",
   "metadata": {},
   "outputs": [],
   "source": [
    "import os\n",
    "\n",
    "from langchain_experimental.graph_transformers import LLMGraphTransformer\n",
    "from langchain_openai import ChatOpenAI\n",
    "\n",
    "\n",
    "graph_llm = ChatOpenAI(temperature=0, model_name=\"gpt-4-turbo-preview\")\n",
    "\n",
    "graph_llm_transformer = LLMGraphTransformer(llm=graph_llm)\n"
   ]
  },
  {
   "cell_type": "markdown",
   "id": "56d3c3d7-5745-4b59-8343-f75599e077ac",
   "metadata": {},
   "source": [
    "### Create nodes and relationships"
   ]
  },
  {
   "cell_type": "code",
   "execution_count": 5,
   "id": "da0e2350-651d-49f9-b620-e427a40a3a0d",
   "metadata": {},
   "outputs": [
    {
     "name": "stdout",
     "output_type": "stream",
     "text": [
      "nodes\n",
      "id='Harry Potter' type='Person'\n",
      "id='Hogwarts' type='Organization'\n",
      "id='Ron Weasley' type='Person'\n",
      "id='Hermoine Granger' type='Person'\n",
      "relationships\n",
      "source=Node(id='Harry Potter', type='Person') target=Node(id='Hogwarts', type='Organization') type='STUDIES_AT'\n",
      "source=Node(id='Harry Potter', type='Person') target=Node(id='Ron Weasley', type='Person') type='FRIEND_OF'\n",
      "source=Node(id='Ron Weasley', type='Person') target=Node(id='Hogwarts', type='Organization') type='STUDIES_AT'\n",
      "source=Node(id='Hermoine Granger', type='Person') target=Node(id='Ron Weasley', type='Person') type='FRIEND_OF'\n"
     ]
    }
   ],
   "source": [
    "from langchain_core.documents import Document\n",
    "\n",
    "text = \"\"\"\n",
    "Harry potter studies at hogwarts.\n",
    "Harry potter is a friend of Ron Weasley. Ron Weasley studies at hogwarts.\n",
    "Hermoine Granger is a friend of Ron Weasly.\n",
    "\"\"\"\n",
    "text_document = [Document(page_content=text)]\n",
    "graph_text_document = graph_llm_transformer.convert_to_graph_documents(text_document)\n",
    "print ('nodes')\n",
    "for n in graph_text_document[0].nodes:\n",
    "    print (n)\n",
    "print ('relationships')\n",
    "for r in graph_text_document[0].relationships:\n",
    "    print (r)"
   ]
  },
  {
   "cell_type": "markdown",
   "id": "0df389c5-eb4f-4a8d-82b1-2dc6384266a3",
   "metadata": {},
   "source": [
    "### Add to graph db"
   ]
  },
  {
   "cell_type": "code",
   "execution_count": 6,
   "id": "41446e1c-fb31-496d-91f5-9852694f3cdc",
   "metadata": {},
   "outputs": [],
   "source": [
    "graph.add_graph_documents(graph_text_document)"
   ]
  },
  {
   "cell_type": "markdown",
   "id": "dc6fad09-fc04-4b48-9f8d-cc84a4c1988f",
   "metadata": {},
   "source": [
    "### visualize nodes from console \n",
    "\n",
    "https://workspace-preview.neo4j.io/workspace/query"
   ]
  },
  {
   "cell_type": "markdown",
   "id": "4f310cc0-a1ea-461a-b424-a758544b6e1b",
   "metadata": {},
   "source": [
    "![org_nodes](org_nodes.png)"
   ]
  },
  {
   "cell_type": "markdown",
   "id": "11c74754-abcf-4a64-8d2d-23272819c93b",
   "metadata": {},
   "source": [
    "### But we want the node to be of type school "
   ]
  },
  {
   "cell_type": "code",
   "execution_count": 27,
   "id": "bb72b8ab-dfd8-41fe-aed5-6bb5a2708968",
   "metadata": {},
   "outputs": [
    {
     "name": "stderr",
     "output_type": "stream",
     "text": [
      "/var/folders/86/th81x23971s_drqsdmgk1fz40000gp/T/ipykernel_12038/1862675062.py:22: DeprecationWarning: write_transaction has been renamed to execute_write\n",
      "  session.write_transaction(delete_graph)\n"
     ]
    }
   ],
   "source": [
    "import os\n",
    "\n",
    "neo4j_uri = os.getenv(\"neo4j_uri\")\n",
    "neo4j_username = os.getenv(\"neo4j_username\")\n",
    "neo4j_password = os.getenv(\"neo4j_password\")\n",
    "from neo4j import GraphDatabase\n",
    "\n",
    "neo4j_auth = (neo4j_username,neo4j_password)\n",
    "# delete nodes for now\n",
    "\n",
    "driver = GraphDatabase.driver(neo4j_uri, auth=neo4j_auth)\n",
    "\n",
    "def delete_graph(tx):\n",
    "    # Delete relationships first\n",
    "    tx.run(\"MATCH (n)-[r]-() DELETE r\")\n",
    "    \n",
    "    # Then delete nodes\n",
    "    tx.run(\"MATCH (n) DELETE n\")\n",
    "\n",
    "# Execute the function within a Neo4j session\n",
    "with driver.session() as session:\n",
    "    session.write_transaction(delete_graph)\n",
    "\n",
    "driver.close()  # Close the driver connection when done"
   ]
  },
  {
   "cell_type": "markdown",
   "id": "ae571d93-fc94-49e3-8a79-97bbe9a8f09e",
   "metadata": {},
   "source": [
    "### Specify Custom allowed nodes for the transformer "
   ]
  },
  {
   "cell_type": "code",
   "execution_count": 28,
   "id": "07a6e9a9-7cf7-4a5a-bd07-4cae976500d0",
   "metadata": {},
   "outputs": [
    {
     "name": "stdout",
     "output_type": "stream",
     "text": [
      "nodes\n",
      "id='Harry Potter' type='Person'\n",
      "id='Hogwarts' type='School'\n",
      "id='Ron Weasley' type='Person'\n",
      "id='Hermoine Granger' type='Person'\n",
      "relationships\n",
      "source=Node(id='Harry Potter', type='Person') target=Node(id='Hogwarts', type='School') type='STUDIES_AT'\n",
      "source=Node(id='Harry Potter', type='Person') target=Node(id='Ron Weasley', type='Person') type='FRIEND_OF'\n",
      "source=Node(id='Ron Weasley', type='Person') target=Node(id='Hogwarts', type='School') type='STUDIES_AT'\n",
      "source=Node(id='Hermoine Granger', type='Person') target=Node(id='Ron Weasley', type='Person') type='FRIEND_OF'\n"
     ]
    }
   ],
   "source": [
    "graph_llm_transformer = LLMGraphTransformer(llm=graph_llm, allowed_nodes=[\"Person\", \"School\"],\n",
    "                                           allowed_relationships=[\"STUDIES_AT\", \"FRIEND_OF\"])\n",
    "from langchain_core.documents import Document\n",
    "\n",
    "text = \"\"\"\n",
    "Harry potter studies at hogwarts.\n",
    "Harry potter is a friend of Ron Weasley. Ron Weasley studies at hogwarts.\n",
    "Hermoine Granger is a friend of Ron Weasly.\n",
    "\"\"\"\n",
    "text_document = [Document(page_content=text)]\n",
    "graph_text_document = graph_llm_transformer.convert_to_graph_documents(text_document)\n",
    "print ('nodes')\n",
    "for n in graph_text_document[0].nodes:\n",
    "    print (n)\n",
    "print ('relationships')\n",
    "for r in graph_text_document[0].relationships:\n",
    "    print (r)"
   ]
  },
  {
   "cell_type": "markdown",
   "id": "c7e11ec9-a633-4d3f-b2c7-0ab377164f6a",
   "metadata": {},
   "source": [
    "### Add to graph db"
   ]
  },
  {
   "cell_type": "code",
   "execution_count": 29,
   "id": "289d03ec-21a3-4e73-b950-b728f6bec94f",
   "metadata": {},
   "outputs": [
    {
     "name": "stderr",
     "output_type": "stream",
     "text": [
      "Failed to write data to connection ResolvedIPv4Address(('34.121.155.65', 7687)) (ResolvedIPv4Address(('34.121.155.65', 7687)))\n",
      "Failed to write data to connection IPv4Address(('67b33eac.databases.neo4j.io', 7687)) (ResolvedIPv4Address(('34.121.155.65', 7687)))\n"
     ]
    }
   ],
   "source": [
    "graph.add_graph_documents(graph_text_document)"
   ]
  },
  {
   "cell_type": "markdown",
   "id": "e732f1a0-151b-4d97-9788-e82eead11f63",
   "metadata": {},
   "source": [
    "### visualize nodes from console\n",
    "https://workspace-preview.neo4j.io/workspace/query"
   ]
  },
  {
   "cell_type": "markdown",
   "id": "e484c510-186d-4716-9bc3-8d150046c6fb",
   "metadata": {},
   "source": [
    "![custom_org_school](custom_org_school.png)"
   ]
  },
  {
   "cell_type": "markdown",
   "id": "58b02448-1995-43a8-a509-46862af78f36",
   "metadata": {},
   "source": [
    "![custom_all_nodes](custom_all_nodes.png)"
   ]
  },
  {
   "cell_type": "markdown",
   "id": "0e398492-7e1d-4b4b-85fa-f6a87a73b93e",
   "metadata": {},
   "source": [
    "### Use LLM to query the graph DB"
   ]
  },
  {
   "cell_type": "code",
   "execution_count": 30,
   "id": "db749b41-c81c-4ac4-aeaf-0548c6efcad0",
   "metadata": {},
   "outputs": [
    {
     "name": "stdout",
     "output_type": "stream",
     "text": [
      "\n",
      "\n",
      "\u001b[1m> Entering new GraphCypherQAChain chain...\u001b[0m\n",
      "Generated Cypher:\n",
      "\u001b[32;1m\u001b[1;3mMATCH (p:Person)-[:STUDIES_AT]->(s:School {id: \"Hogwarts\"}) RETURN p.id;\u001b[0m\n",
      "Full Context:\n",
      "\u001b[32;1m\u001b[1;3m[{'p.id': 'Harry Potter'}, {'p.id': 'Ron Weasley'}]\u001b[0m\n",
      "\n",
      "\u001b[1m> Finished chain.\u001b[0m\n"
     ]
    },
    {
     "data": {
      "text/plain": [
       "{'query': 'which person studies at Hogwarts ?. For the properties always\\nuse id instead of name',\n",
       " 'result': 'Harry Potter and Ron Weasley study at Hogwarts.'}"
      ]
     },
     "execution_count": 30,
     "metadata": {},
     "output_type": "execute_result"
    }
   ],
   "source": [
    "from langchain.chains import GraphCypherQAChain\n",
    "from langchain_openai import ChatOpenAI\n",
    "\n",
    "llm = ChatOpenAI(model=\"gpt-4-turbo-preview\", temperature=0)\n",
    "chain = GraphCypherQAChain.from_llm(graph=graph, llm=llm, verbose=True)\n",
    "\n",
    "students_response = chain.invoke({\"query\": \"\"\"which person studies at Hogwarts ?. For the properties always\n",
    "use id instead of name\"\"\"})\n",
    "students_response"
   ]
  },
  {
   "cell_type": "code",
   "execution_count": 53,
   "id": "46ebe1f8-a7c0-4d37-9445-13548b33014e",
   "metadata": {},
   "outputs": [
    {
     "data": {
      "text/plain": [
       "'Harry Potter and Ron Weasley study at Hogwarts.'"
      ]
     },
     "execution_count": 53,
     "metadata": {},
     "output_type": "execute_result"
    }
   ],
   "source": [
    "internal_knowledge = students_response['result']\n",
    "internal_knowledge"
   ]
  },
  {
   "cell_type": "markdown",
   "id": "fe243fd7-b98a-4f61-a490-bf96825f0e9a",
   "metadata": {},
   "source": [
    "### Use case query LLM with out internal data from knowledge graph"
   ]
  },
  {
   "cell_type": "code",
   "execution_count": 41,
   "id": "ead58a5e-acab-4372-9a6b-3da364b7a167",
   "metadata": {},
   "outputs": [],
   "source": [
    "question = \"\"\"name of the students who study at Hogwarts \"\"\""
   ]
  },
  {
   "cell_type": "code",
   "execution_count": 45,
   "id": "c1f30032-07ec-45ac-9e6a-89a5fc5c9d5e",
   "metadata": {},
   "outputs": [
    {
     "name": "stdout",
     "output_type": "stream",
     "text": [
      "llm_response Hogwarts School of Witchcraft and Wizardry, the fictional school from J.K. Rowling's \"Harry Potter\" series, has a vast number of students across its history. Here are names of some of the most notable students from the series, categorized by their respective houses:\n",
      "\n",
      "### Gryffindor\n",
      "- Harry Potter\n",
      "- Hermione Granger\n",
      "- Ron Weasley\n",
      "- Neville Longbottom\n",
      "- Ginny Weasley\n",
      "- Fred Weasley\n",
      "- George Weasley\n",
      "- Seamus Finnigan\n",
      "- Dean Thomas\n",
      "- Parvati Patil\n",
      "- Lavender Brown\n",
      "- Colin Creevey\n",
      "- Lee Jordan\n",
      "\n",
      "### Hufflepuff\n",
      "- Cedric Diggory\n",
      "- Nymphadora Tonks (though her time at Hogwarts is not detailed in the series, it's known she was in Hufflepuff)\n",
      "- Ernie Macmillan\n",
      "- Hannah Abbott\n",
      "- Justin Finch-Fletchley\n",
      "- Susan Bones\n",
      "\n",
      "### Ravenclaw\n",
      "- Luna Lovegood\n",
      "- Cho Chang\n",
      "- Padma Patil\n",
      "- Terry Boot\n",
      "- Michael Corner\n",
      "- Anthony Goldstein\n",
      "\n",
      "### Slytherin\n",
      "- Draco Malfoy\n",
      "- Vincent Crabbe\n",
      "- Gregory Goyle\n",
      "- Pansy Parkinson\n",
      "- Blaise Zabini\n",
      "- Millicent Bulstrode\n",
      "- Theodore Nott\n",
      "\n",
      "This list includes only a fraction of the students who have attended Hogwarts. There are many more mentioned throughout the \"Harry Potter\" books and related materials, as well as countless others who are unnamed or only briefly mentioned.\n"
     ]
    }
   ],
   "source": [
    "import langchain.prompts.chat\n",
    "from langchain_core.messages import HumanMessage, SystemMessage\n",
    "\n",
    "messages = [\n",
    "    SystemMessage(content=\"You are a helpful assistant that answers users questions.\"),\n",
    "    HumanMessage(content=question),\n",
    "]\n",
    "llm_response = llm.invoke(messages)\n",
    "print ('llm_response',llm_response.content)"
   ]
  },
  {
   "cell_type": "markdown",
   "id": "b0f6f64e-86f7-4d7e-8bf9-d1ad92ab261f",
   "metadata": {},
   "source": [
    "### Retreieval Augmented Generation - query LLM with internal data from knowledge graph"
   ]
  },
  {
   "cell_type": "code",
   "execution_count": 52,
   "id": "11e03b7b-9eb5-4bf3-b3f2-e93d26d1d3b9",
   "metadata": {},
   "outputs": [
    {
     "data": {
      "text/plain": [
       "'Harry Potter and Ron Weasley study at Hogwarts.'"
      ]
     },
     "execution_count": 52,
     "metadata": {},
     "output_type": "execute_result"
    }
   ],
   "source": [
    "internal_knowledge = students_response['result']\n",
    "internal_knowledge"
   ]
  },
  {
   "cell_type": "code",
   "execution_count": 54,
   "id": "1822c3c8-9188-4b73-82d7-ef6866fc5d7b",
   "metadata": {},
   "outputs": [
    {
     "data": {
      "text/plain": [
       "'name of the students who study at Hogwarts '"
      ]
     },
     "execution_count": 54,
     "metadata": {},
     "output_type": "execute_result"
    }
   ],
   "source": [
    "question"
   ]
  },
  {
   "cell_type": "code",
   "execution_count": 51,
   "id": "2676c08d-b460-4ab5-9a01-1102cf7543eb",
   "metadata": {},
   "outputs": [
    {
     "name": "stdout",
     "output_type": "stream",
     "text": [
      "llm_response_graph_knowledge\n",
      " Harry Potter and Ron Weasley study at Hogwarts.\n"
     ]
    }
   ],
   "source": [
    "\n",
    "\n",
    "system_message_context = f\"\"\"You are a helpful assistant that answers users questions .\n",
    "    Only use the internal_knowledge provided, do not add any additional information.\n",
    "    internal_knowledge:  {internal_knowledge}\n",
    "    \"\"\"\n",
    "\n",
    "messages = [\n",
    "    SystemMessage(content= system_message_context),\n",
    "    HumanMessage(content=question),\n",
    "]\n",
    "llm_response_graph_knowledge = llm.invoke(messages)\n",
    "print ('llm_response_graph_knowledge\\n',llm_response_graph_knowledge.content)"
   ]
  },
  {
   "cell_type": "code",
   "execution_count": null,
   "id": "145df768-ed09-4da4-8943-2be7d8e4f04e",
   "metadata": {},
   "outputs": [],
   "source": []
  },
  {
   "cell_type": "code",
   "execution_count": null,
   "id": "92cca43d-7d69-4488-9ad3-3a16e0f2ae06",
   "metadata": {},
   "outputs": [],
   "source": []
  },
  {
   "cell_type": "markdown",
   "id": "cb3c6187-6d9f-445e-9ffc-36b9ace4cc90",
   "metadata": {},
   "source": [
    "### Can LLM do advanced query "
   ]
  },
  {
   "cell_type": "code",
   "execution_count": 23,
   "id": "e8a08dc0-5e90-4984-af0c-03694c564bd2",
   "metadata": {},
   "outputs": [
    {
     "name": "stdout",
     "output_type": "stream",
     "text": [
      "\n",
      "\n",
      "\u001b[1m> Entering new GraphCypherQAChain chain...\u001b[0m\n",
      "Generated Cypher:\n",
      "\u001b[32;1m\u001b[1;3m\n",
      "MATCH (p1 {id: \"Hermoine Granger\"})-[:KNOWS]->(p2)-[:KNOWS]->(p3)\n",
      "WHERE NOT (p1)-[:KNOWS]->(p3)\n",
      "RETURN p3.id AS PotentialFriend\n",
      "\u001b[0m\n",
      "Full Context:\n",
      "\u001b[32;1m\u001b[1;3m[]\u001b[0m\n",
      "\n",
      "\u001b[1m> Finished chain.\u001b[0m\n"
     ]
    },
    {
     "data": {
      "text/plain": [
       "{'query': 'who might Hermoine Granger become friends with?.\\nFor the properties always use id instead of name. For example instead of p.name use p.id',\n",
       " 'result': \"I don't know the answer.\"}"
      ]
     },
     "execution_count": 23,
     "metadata": {},
     "output_type": "execute_result"
    }
   ],
   "source": [
    "response = chain.invoke({\"query\": \"\"\"who might Hermoine Granger become friends with?.\n",
    "For the properties always use id instead of name. For example instead of p.name use p.id\"\"\"})\n",
    "response"
   ]
  },
  {
   "cell_type": "code",
   "execution_count": null,
   "id": "5ea9cf09-8e19-4513-950b-5abbbdb91746",
   "metadata": {},
   "outputs": [],
   "source": []
  },
  {
   "cell_type": "markdown",
   "id": "0c4459f0-9b92-431d-9e0d-229fefc2c121",
   "metadata": {},
   "source": [
    "### Looks like it needs more prompting"
   ]
  },
  {
   "cell_type": "code",
   "execution_count": null,
   "id": "9173dd78-0450-458b-ae6f-55a48a4428a3",
   "metadata": {},
   "outputs": [],
   "source": []
  },
  {
   "cell_type": "code",
   "execution_count": null,
   "id": "ddcdb4e3-4f9f-48c4-beb5-661aa55fc9e7",
   "metadata": {},
   "outputs": [],
   "source": []
  },
  {
   "cell_type": "code",
   "execution_count": null,
   "id": "647dcc29-2d11-4a0c-b9d3-2ed376b9043a",
   "metadata": {},
   "outputs": [],
   "source": []
  }
 ],
 "metadata": {
  "kernelspec": {
   "display_name": "Python 3 (ipykernel)",
   "language": "python",
   "name": "python3"
  },
  "language_info": {
   "codemirror_mode": {
    "name": "ipython",
    "version": 3
   },
   "file_extension": ".py",
   "mimetype": "text/x-python",
   "name": "python",
   "nbconvert_exporter": "python",
   "pygments_lexer": "ipython3",
   "version": "3.9.4"
  }
 },
 "nbformat": 4,
 "nbformat_minor": 5
}
