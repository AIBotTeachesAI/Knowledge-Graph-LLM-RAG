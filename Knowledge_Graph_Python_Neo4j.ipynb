{
 "cells": [
  {
   "cell_type": "code",
   "execution_count": null,
   "id": "281b1a84-762d-4610-aece-d1ca79968eec",
   "metadata": {},
   "outputs": [],
   "source": []
  },
  {
   "cell_type": "markdown",
   "id": "7533fe3f-a3d5-4f4d-9fe1-8a524289358f",
   "metadata": {},
   "source": [
    "## What is a Knowledge Graph"
   ]
  },
  {
   "cell_type": "markdown",
   "id": "dd825994-ce6d-4723-80cc-3f27c64244d7",
   "metadata": {},
   "source": [
    "A knowledge graph is a way to store and organize information in a form that highlights the relationships between different pieces of data. It consists mainly of two components: nodes and relationships.\n",
    "\n",
    "Nodes Nodes represent entities or concepts in a knowledge graph. An entity can be anything with a distinct existence, such as a person, place, object, or idea. For example, in a knowledge graph about a book series, nodes could represent characters, locations, events, or items mentioned in the books.\n",
    "\n",
    "Relationships Relationships connect the nodes and describe how they are related to each other. These connections make the graph structure meaningful by providing context about the relationships between entities. For instance, in a knowledge graph about a book series, relationships could illustrate friendships between characters, locations of events, or ownership of items.\n",
    "\n",
    "Each relationship in a knowledge graph is directional and has a nature or type. For example, a relationship might be labeled \"FRIEND_OF\" to indicate a friendship between two characters or \"LOCATED_IN\" to show that an event takes place in a specific location.\n",
    "\n",
    "Together, nodes and relationships in a knowledge graph create a network of interconnected information that can be queried and analyzed to uncover insights, relationships, and patterns that might not be evident from the data when viewed in isolation. This structure is particularly useful for complex domains where understanding the connections between pieces of information is crucial."
   ]
  },
  {
   "cell_type": "markdown",
   "id": "87b62f8a-db56-4439-bf78-0aca821cfd5c",
   "metadata": {},
   "source": [
    "## Why we need knowledge graph"
   ]
  },
  {
   "cell_type": "markdown",
   "id": "7d6fd911-e765-4cd2-bc58-26b85b484984",
   "metadata": {},
   "source": [
    "A knowledge graph is a sophisticated database that uses a graph-structured data model to store interlinked descriptions of entities — objects, events, situations, or concepts — along with their properties and relationships. It represents knowledge in a form that is both machine-readable and understandable, enabling complex queries and inferences about the data. Knowledge graphs are widely used in various applications, including semantic search, recommendation systems, and artificial intelligence, to enhance data connectivity and context for better decision-making and insights. Google's Knowledge Graph, for instance, helps improve search results by understanding the context and relationships between different entities and facts.\n",
    "\n",
    "Imagine you have a giant wall in your room where you stick notes about everything you know, like your friends, your favorite games, and places you love. Now, for each note, you draw lines to other notes that are connected in some way, like linking your friend's note to the ice cream shop you both love or to the game you play together.\n",
    "\n",
    "A knowledge graph is like this giant wall of notes, but it's for a computer. Instead of notes, there are bits of information about all sorts of things in the world, and the lines are like invisible strings that tie related bits together. This helps the computer understand how everything is connected, just like you understand how your friends, games, and favorite places are related. So, when you ask the computer a question, it looks at this giant wall of information to give you a really good answer!"
   ]
  },
  {
   "cell_type": "markdown",
   "id": "e12df089-9cfc-4043-9882-d17d6b79d649",
   "metadata": {},
   "source": [
    "## knowledge graph vs relational database"
   ]
  },
  {
   "cell_type": "markdown",
   "id": "097c01f9-9380-4f45-8c7f-c12a2f00bc54",
   "metadata": {},
   "source": [
    "Let's consider a simple example involving a library system to illustrate how a knowledge graph might offer advantages over a traditional relational database in certain scenarios.\n",
    "\n",
    "Scenario: Library System\n",
    "Imagine you're managing a library system that includes information about books, authors, genres, and readers. The system is used to track which books are checked out by which readers and to provide book recommendations based on reader preferences and reading history.\n",
    "\n",
    "Relational Database Approach\n",
    "\n",
    "In a relational database, you might have tables for Books, Authors, Genres, and Readers. Relationships between these entities would be managed through foreign keys and join tables. For example, a Books table might have foreign keys to Authors and Genres, and a separate join table might be needed to manage the many-to-many relationships between Readers and the Books they've checked out.\n",
    "\n",
    "To recommend a book to a reader based on their reading history and preferred genres, you would need to perform multiple joins. For instance, you'd join Readers to Books to find out what they've previously read, then Books to Genres to filter books by the reader's preferred genres, and perhaps again to Authors if the reader prefers books by certain authors.\n",
    "\n",
    "Knowledge Graph Approach\n",
    "\n",
    "In a knowledge graph, entities (Books, Authors, Genres, Readers) and their relationships (\"written by,\" \"belongs to genre,\" \"checked out by\") are directly represented as nodes and edges. This direct representation makes it easier to query complex relationships.\n",
    "\n",
    "For the same recommendation task, the knowledge graph allows you to more intuitively follow the connections between nodes. You can start at a Reader node, follow edges to the Books they've checked out, continue to the Genres of those books, and then find other Books within those Genres that are written by favored Authors. This path through the graph can be more direct and semantically clear compared to constructing a complex SQL query with multiple joins."
   ]
  },
  {
   "cell_type": "markdown",
   "id": "c48527e0-9384-4720-b736-59b7e1f30cbc",
   "metadata": {},
   "source": [
    "## Create account "
   ]
  },
  {
   "cell_type": "code",
   "execution_count": null,
   "id": "541c0a7e-d881-4d32-b14c-2245e2816508",
   "metadata": {},
   "outputs": [],
   "source": []
  },
  {
   "cell_type": "markdown",
   "id": "1087e2f2-d3ff-4b0f-a1b3-6906f2776082",
   "metadata": {},
   "source": [
    "https://neo4j.com/cloud/platform/aura-graph-database/\n",
    "\n",
    "Sign up for free account for auraDB which is a fully managed graph database service"
   ]
  },
  {
   "cell_type": "markdown",
   "id": "7d426ae5-10f9-4c02-a0dd-bc6fc1736506",
   "metadata": {},
   "source": [
    "Make sure to save the related variables from the console like uri, username, password"
   ]
  },
  {
   "cell_type": "markdown",
   "id": "165c8818-542c-40df-a5c8-add6c6f16aed",
   "metadata": {},
   "source": [
    "### Install libraries"
   ]
  },
  {
   "cell_type": "code",
   "execution_count": 1,
   "id": "f50bb2b9-7d7d-490e-9824-db6333e1b57c",
   "metadata": {},
   "outputs": [],
   "source": [
    "# !pip install neo4j"
   ]
  },
  {
   "cell_type": "markdown",
   "id": "91cba509-33a7-43f0-845c-dd02c178b33b",
   "metadata": {},
   "source": [
    "### set up neo4j related variables"
   ]
  },
  {
   "cell_type": "code",
   "execution_count": 1,
   "id": "3327a25d-fd45-43ad-8bdb-50bd98c69a45",
   "metadata": {},
   "outputs": [],
   "source": [
    "import os\n",
    "\n",
    "neo4j_uri = os.getenv(\"neo4j_uri\")\n",
    "neo4j_username = os.getenv(\"neo4j_username\")\n",
    "neo4j_password = os.getenv(\"neo4j_password\")"
   ]
  },
  {
   "cell_type": "code",
   "execution_count": 3,
   "id": "991d8664-42fc-44fd-936a-bbd0df60877c",
   "metadata": {},
   "outputs": [],
   "source": [
    "from neo4j import GraphDatabase\n",
    "\n",
    "neo4j_auth = (neo4j_username,neo4j_password)"
   ]
  },
  {
   "cell_type": "markdown",
   "id": "e5080480-8a4d-402c-8a13-e841f96e6ed9",
   "metadata": {},
   "source": [
    "### Create Nodes and relationships"
   ]
  },
  {
   "cell_type": "code",
   "execution_count": 4,
   "id": "5a0192bb-b4c0-4043-8392-e99ca314df6d",
   "metadata": {},
   "outputs": [
    {
     "name": "stderr",
     "output_type": "stream",
     "text": [
      "/var/folders/86/th81x23971s_drqsdmgk1fz40000gp/T/ipykernel_9477/2597591560.py:22: DeprecationWarning: write_transaction has been renamed to execute_write\n",
      "  session.write_transaction(create_graph)\n"
     ]
    }
   ],
   "source": [
    "\n",
    "driver = GraphDatabase.driver(neo4j_uri, auth=neo4j_auth)\n",
    "\n",
    "def create_graph(tx):\n",
    "    # Create nodes\n",
    "    tx.run(\"MERGE (h:Person {name: 'Harry Potter'}) \"\n",
    "           \"MERGE (r:Person {name: 'Ron Weasley'}) \"\n",
    "           \"MERGE (hg:Person {name: 'Hermoine Granger'}) \"\n",
    "           \"MERGE (hw:School {name: 'Hogwarts'})\")\n",
    "    \n",
    "    # Create relationships\n",
    "    tx.run(\"MATCH (h:Person {name: 'Harry Potter'}), (hw:School {name: 'Hogwarts'}) \"\n",
    "           \"MERGE (h)-[:STUDIES_AT]->(hw)\")\n",
    "    tx.run(\"MATCH (h:Person {name: 'Harry Potter'}), (r:Person {name: 'Ron Weasley'}) \"\n",
    "           \"MERGE (h)-[:FRIEND_OF]->(r)\")\n",
    "    tx.run(\"MATCH (r:Person {name: 'Ron Weasley'}), (hw:School {name: 'Hogwarts'}) \"\n",
    "           \"MERGE (r)-[:STUDIES_AT]->(hw)\")\n",
    "    tx.run(\"MATCH (hg:Person {name: 'Hermoine Granger'}), (r:Person {name: 'Ron Weasley'}) \"\n",
    "           \"MERGE (hg)-[:FRIEND_OF]->(r)\")\n",
    "\n",
    "# Execute the function within a Neo4j session\n",
    "with driver.session() as session:\n",
    "    session.write_transaction(create_graph)\n",
    "\n",
    "driver.close() "
   ]
  },
  {
   "cell_type": "markdown",
   "id": "3faaace0-39d6-4201-bfe3-510677f3f83a",
   "metadata": {},
   "source": [
    "### Query the graph database "
   ]
  },
  {
   "cell_type": "code",
   "execution_count": 5,
   "id": "1b9ac10e-f679-44a9-b0cb-d8a72a627b42",
   "metadata": {},
   "outputs": [
    {
     "name": "stderr",
     "output_type": "stream",
     "text": [
      "/var/folders/86/th81x23971s_drqsdmgk1fz40000gp/T/ipykernel_9477/3204659322.py:1: DeprecationWarning: Using a driver after it has been closed is deprecated. Future versions of the driver will raise an error.\n",
      "  records, summary, keys = driver.execute_query(\n"
     ]
    },
    {
     "name": "stdout",
     "output_type": "stream",
     "text": [
      "<Record name='Harry Potter'>\n",
      "<Record name='Ron Weasley'>\n",
      "<Record name='Hermoine Granger'>\n",
      "The query `MATCH (p:Person ) RETURN p.name AS name` returned 3 records in 29 ms.\n"
     ]
    }
   ],
   "source": [
    "records, summary, keys = driver.execute_query(\n",
    "    \"MATCH (p:Person ) RETURN p.name AS name\",\n",
    "    database_=\"neo4j\",\n",
    ")\n",
    "\n",
    "for person in records:\n",
    "    print(person)\n",
    "\n",
    "print(\"The query `{query}` returned {records_count} records in {time} ms.\".format(\n",
    "    query=summary.query, records_count=len(records),\n",
    "    time=summary.result_available_after,\n",
    "))"
   ]
  },
  {
   "cell_type": "markdown",
   "id": "e0b66071-268a-4896-9464-56de2dfa2c6a",
   "metadata": {},
   "source": [
    "### Advanced querying to find who could be potential friend.\n",
    "### This is useful in recommendation systems like facebook, netflix etc"
   ]
  },
  {
   "cell_type": "code",
   "execution_count": 7,
   "id": "56b7d24d-492f-439d-82bb-7b90b744b6de",
   "metadata": {},
   "outputs": [
    {
     "name": "stderr",
     "output_type": "stream",
     "text": [
      "/var/folders/86/th81x23971s_drqsdmgk1fz40000gp/T/ipykernel_9477/3204893078.py:7: DeprecationWarning: Using a driver after it has been closed is deprecated. Future versions of the driver will raise an error.\n",
      "  records, summary, keys = driver.execute_query(\n"
     ]
    },
    {
     "name": "stdout",
     "output_type": "stream",
     "text": [
      "<Record PotentialFriend='Harry Potter'>\n",
      "The query `\n",
      "    MATCH (student:Person)-[:STUDIES_AT]->(:School {name: 'Hogwarts'}),\n",
      "          (Hermoine:Person {name: 'Hermoine Granger'})\n",
      "    WHERE NOT (Hermoine)-[:FRIEND_OF]-(student) AND Hermoine <> student\n",
      "    RETURN student.name AS PotentialFriend\n",
      "    ` returned 1 records in 182 ms.\n"
     ]
    }
   ],
   "source": [
    "query = \"\"\"\n",
    "    MATCH (student:Person)-[:STUDIES_AT]->(:School {name: 'Hogwarts'}),\n",
    "          (Hermoine:Person {name: 'Hermoine Granger'})\n",
    "    WHERE NOT (Hermoine)-[:FRIEND_OF]-(student) AND Hermoine <> student\n",
    "    RETURN student.name AS PotentialFriend\n",
    "    \"\"\"\n",
    "records, summary, keys = driver.execute_query(\n",
    "    query,\n",
    "    database_=\"neo4j\",\n",
    ")\n",
    "\n",
    "# Loop through results and do something with them\n",
    "for person in records:\n",
    "    print(person)\n",
    "\n",
    "# Summary information\n",
    "print(\"The query `{query}` returned {records_count} records in {time} ms.\".format(\n",
    "    query=summary.query, records_count=len(records),\n",
    "    time=summary.result_available_after,\n",
    "))"
   ]
  },
  {
   "cell_type": "markdown",
   "id": "c184651e-2c14-49f3-bb56-347c1e93487e",
   "metadata": {},
   "source": [
    "## Visualize from the console "
   ]
  },
  {
   "cell_type": "markdown",
   "id": "113dd19e-08fe-4c82-8252-1dab3caf94b9",
   "metadata": {},
   "source": [
    "https://workspace-preview.neo4j.io/workspace/query"
   ]
  },
  {
   "cell_type": "markdown",
   "id": "87048719-18cf-4746-839f-90d0d8a9d082",
   "metadata": {},
   "source": [
    "Query 1 - Find School and students"
   ]
  },
  {
   "cell_type": "markdown",
   "id": "ba0477bf-02fd-4a53-a817-c528dae41c26",
   "metadata": {},
   "source": [
    "MATCH p=()-[:STUDIES_AT]->() RETURN p LIMIT 25;"
   ]
  },
  {
   "cell_type": "markdown",
   "id": "efb33ed3-26ac-49f1-b555-f39c9486882c",
   "metadata": {},
   "source": [
    "![school_nodes](school_nodes.png)"
   ]
  },
  {
   "cell_type": "markdown",
   "id": "591f24e5-42aa-4f71-b9a1-ee9393d7ca83",
   "metadata": {},
   "source": [
    "Query 2 - Find person and friend"
   ]
  },
  {
   "cell_type": "markdown",
   "id": "c722e0e6-e2d9-4143-b4cc-4df2064f15ef",
   "metadata": {},
   "source": [
    "MATCH p=()-[:FRIEND_OF]->() RETURN p LIMIT 25;"
   ]
  },
  {
   "cell_type": "markdown",
   "id": "447e08c7-2168-415a-9c68-01dcc8e28dae",
   "metadata": {},
   "source": [
    "![person_nodes](person_nodes.png)"
   ]
  },
  {
   "cell_type": "markdown",
   "id": "970f43c2-39e0-483f-bb08-a1f223f9cfe0",
   "metadata": {},
   "source": [
    "Query 3 - All nodes and relations"
   ]
  },
  {
   "cell_type": "markdown",
   "id": "45546f19-dccb-4cd8-bbbf-52a06daf83ec",
   "metadata": {},
   "source": [
    "MATCH (n)\n",
    "OPTIONAL MATCH (n)-[r]->(m)\n",
    "RETURN n, r, m"
   ]
  },
  {
   "cell_type": "markdown",
   "id": "f7789416-8c55-4120-b8af-bdaf1cba9936",
   "metadata": {},
   "source": [
    "![all_nodes](all_nodes.png)"
   ]
  },
  {
   "cell_type": "code",
   "execution_count": null,
   "id": "cb830a7d-35f2-4383-9e97-a617909f6d2e",
   "metadata": {},
   "outputs": [],
   "source": []
  },
  {
   "cell_type": "markdown",
   "id": "ac183b9a-8beb-49e8-ac06-f0d52c381b74",
   "metadata": {},
   "source": [
    "### To delete all nodes - Proceed with caution "
   ]
  },
  {
   "cell_type": "code",
   "execution_count": 8,
   "id": "3a231a5d-1b34-4cdc-a5fa-34a17d6b7f40",
   "metadata": {},
   "outputs": [
    {
     "name": "stderr",
     "output_type": "stream",
     "text": [
      "/var/folders/86/th81x23971s_drqsdmgk1fz40000gp/T/ipykernel_9477/1309953828.py:12: DeprecationWarning: write_transaction has been renamed to execute_write\n",
      "  session.write_transaction(delete_graph)\n"
     ]
    }
   ],
   "source": [
    "driver = GraphDatabase.driver(neo4j_uri, auth=neo4j_auth)\n",
    "\n",
    "def delete_graph(tx):\n",
    "    # Delete relationships first\n",
    "    tx.run(\"MATCH (n)-[r]-() DELETE r\")\n",
    "    \n",
    "    # Then delete nodes\n",
    "    tx.run(\"MATCH (n) DELETE n\")\n",
    "\n",
    "# Execute the function within a Neo4j session\n",
    "with driver.session() as session:\n",
    "    session.write_transaction(delete_graph)\n",
    "\n",
    "driver.close()  # Close the driver connection when done"
   ]
  }
 ],
 "metadata": {
  "kernelspec": {
   "display_name": "Python 3 (ipykernel)",
   "language": "python",
   "name": "python3"
  },
  "language_info": {
   "codemirror_mode": {
    "name": "ipython",
    "version": 3
   },
   "file_extension": ".py",
   "mimetype": "text/x-python",
   "name": "python",
   "nbconvert_exporter": "python",
   "pygments_lexer": "ipython3",
   "version": "3.9.4"
  }
 },
 "nbformat": 4,
 "nbformat_minor": 5
}
